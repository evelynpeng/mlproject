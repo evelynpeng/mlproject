{
 "cells": [
  {
   "cell_type": "code",
   "execution_count": 24,
   "metadata": {
    "collapsed": true
   },
   "outputs": [],
   "source": [
    "import pandas as pd\n",
    "import numpy as np"
   ]
  },
  {
   "cell_type": "code",
   "execution_count": 18,
   "metadata": {
    "collapsed": false
   },
   "outputs": [],
   "source": [
    "df_raw = pd.read_pickle('sample.pickle')\n",
    "n, m = df_raw .shape"
   ]
  },
  {
   "cell_type": "code",
   "execution_count": 20,
   "metadata": {
    "collapsed": false
   },
   "outputs": [
    {
     "data": {
      "text/plain": [
       "advertiser_app_store_id                     0.000000\n",
       "country_code                                0.036509\n",
       "city                                       96.572509\n",
       "campaign_id                                 0.000000\n",
       "creative_id                                 0.000000\n",
       "device_language                             0.008981\n",
       "device_make                                 0.025045\n",
       "device_model                                0.025849\n",
       "device_platform                             0.000000\n",
       "device_connection                           5.956926\n",
       "device_os_version                           0.000000\n",
       "device_screen_height                        0.000000\n",
       "device_screen_width                         0.000000\n",
       "device_volume                               0.000000\n",
       "event_id                                    0.000000\n",
       "n_campaign_views                            0.000000\n",
       "n_vungle_installs                           0.000000\n",
       "publisher_app_store_id                      0.000000\n",
       "time_of_last_delivery_this_campaign        36.740233\n",
       "time_of_last_delivery_this_creative        56.245605\n",
       "time_of_last_delivery_any_installed_app    89.233707\n",
       "time_of_last_vungle_delivery                3.309274\n",
       "time_of_this_impression                     0.000000\n",
       "timestamp_at_install                       83.066341\n",
       "time_of_this_request                        0.000000\n",
       "time_zone                                   0.030814\n",
       "dtype: float64"
      ]
     },
     "execution_count": 20,
     "metadata": {},
     "output_type": "execute_result"
    }
   ],
   "source": [
    "df_raw.isnull().sum()/n*100\n",
    "# the target \"timestamp_at_install\" has 83% Nan rate\n",
    "# we should not use city, time_of_last_delivery_any_installed_app, time_of_last_delivery_this_creative"
   ]
  },
  {
   "cell_type": "code",
   "execution_count": 22,
   "metadata": {
    "collapsed": false
   },
   "outputs": [
    {
     "data": {
      "text/plain": [
       "advertiser_app_store_id                    object\n",
       "country_code                               object\n",
       "city                                       object\n",
       "campaign_id                                object\n",
       "creative_id                                object\n",
       "device_language                            object\n",
       "device_make                                object\n",
       "device_model                               object\n",
       "device_platform                            object\n",
       "device_connection                          object\n",
       "device_os_version                          object\n",
       "device_screen_height                       object\n",
       "device_screen_width                        object\n",
       "device_volume                              object\n",
       "event_id                                   object\n",
       "n_campaign_views                           object\n",
       "n_vungle_installs                          object\n",
       "publisher_app_store_id                     object\n",
       "time_of_last_delivery_this_campaign        object\n",
       "time_of_last_delivery_this_creative        object\n",
       "time_of_last_delivery_any_installed_app    object\n",
       "time_of_last_vungle_delivery               object\n",
       "time_of_this_impression                    object\n",
       "timestamp_at_install                       object\n",
       "time_of_this_request                       object\n",
       "time_zone                                  object\n",
       "dtype: object"
      ]
     },
     "execution_count": 22,
     "metadata": {},
     "output_type": "execute_result"
    }
   ],
   "source": [
    "df_raw.dtypes"
   ]
  },
  {
   "cell_type": "code",
   "execution_count": 29,
   "metadata": {
    "collapsed": false
   },
   "outputs": [
    {
     "data": {
      "text/plain": [
       "advertiser_app_store_id                        948\n",
       "country_code                                   223\n",
       "city                                         11202\n",
       "campaign_id                                   4275\n",
       "creative_id                                  13193\n",
       "device_language                                113\n",
       "device_make                                   4017\n",
       "device_model                                 30416\n",
       "device_platform                                  3\n",
       "device_connection                                2\n",
       "device_os_version                              213\n",
       "device_screen_height                          1048\n",
       "device_screen_width                           1342\n",
       "device_volume                                48836\n",
       "event_id                                   1361497\n",
       "n_campaign_views                               576\n",
       "n_vungle_installs                               61\n",
       "publisher_app_store_id                       12794\n",
       "time_of_last_delivery_this_campaign         637846\n",
       "time_of_last_delivery_this_creative         488930\n",
       "time_of_last_delivery_any_installed_app     140011\n",
       "time_of_last_vungle_delivery                735970\n",
       "time_of_this_impression                     628676\n",
       "timestamp_at_install                        188432\n",
       "time_of_this_request                        674102\n",
       "time_zone                                      415\n",
       "dtype: int64"
      ]
     },
     "execution_count": 29,
     "metadata": {},
     "output_type": "execute_result"
    }
   ],
   "source": [
    "df_raw.apply(lambda x: x.nunique(), axis=0)"
   ]
  },
  {
   "cell_type": "code",
   "execution_count": 30,
   "metadata": {
    "collapsed": false
   },
   "outputs": [
    {
     "data": {
      "text/html": [
       "<div>\n",
       "<table border=\"1\" class=\"dataframe\">\n",
       "  <thead>\n",
       "    <tr style=\"text-align: right;\">\n",
       "      <th></th>\n",
       "      <th>advertiser_app_store_id</th>\n",
       "      <th>country_code</th>\n",
       "      <th>city</th>\n",
       "      <th>campaign_id</th>\n",
       "      <th>creative_id</th>\n",
       "      <th>device_language</th>\n",
       "      <th>device_make</th>\n",
       "      <th>device_model</th>\n",
       "      <th>device_platform</th>\n",
       "      <th>device_connection</th>\n",
       "      <th>...</th>\n",
       "      <th>n_vungle_installs</th>\n",
       "      <th>publisher_app_store_id</th>\n",
       "      <th>time_of_last_delivery_this_campaign</th>\n",
       "      <th>time_of_last_delivery_this_creative</th>\n",
       "      <th>time_of_last_delivery_any_installed_app</th>\n",
       "      <th>time_of_last_vungle_delivery</th>\n",
       "      <th>time_of_this_impression</th>\n",
       "      <th>timestamp_at_install</th>\n",
       "      <th>time_of_this_request</th>\n",
       "      <th>time_zone</th>\n",
       "    </tr>\n",
       "  </thead>\n",
       "  <tbody>\n",
       "    <tr>\n",
       "      <th>count</th>\n",
       "      <td>1369515</td>\n",
       "      <td>1369015</td>\n",
       "      <td>46940</td>\n",
       "      <td>1369515</td>\n",
       "      <td>1369515</td>\n",
       "      <td>1369392</td>\n",
       "      <td>1369172</td>\n",
       "      <td>1369161</td>\n",
       "      <td>1369515</td>\n",
       "      <td>1287934</td>\n",
       "      <td>...</td>\n",
       "      <td>1369515.0</td>\n",
       "      <td>1369515</td>\n",
       "      <td>866352</td>\n",
       "      <td>599223</td>\n",
       "      <td>147446</td>\n",
       "      <td>1324194</td>\n",
       "      <td>1369515</td>\n",
       "      <td>231909</td>\n",
       "      <td>1369515</td>\n",
       "      <td>1369093</td>\n",
       "    </tr>\n",
       "    <tr>\n",
       "      <th>unique</th>\n",
       "      <td>948</td>\n",
       "      <td>223</td>\n",
       "      <td>11202</td>\n",
       "      <td>4275</td>\n",
       "      <td>13193</td>\n",
       "      <td>113</td>\n",
       "      <td>4017</td>\n",
       "      <td>30416</td>\n",
       "      <td>3</td>\n",
       "      <td>2</td>\n",
       "      <td>...</td>\n",
       "      <td>61.0</td>\n",
       "      <td>12794</td>\n",
       "      <td>637846</td>\n",
       "      <td>488930</td>\n",
       "      <td>140011</td>\n",
       "      <td>735970</td>\n",
       "      <td>628676</td>\n",
       "      <td>188432</td>\n",
       "      <td>674102</td>\n",
       "      <td>415</td>\n",
       "    </tr>\n",
       "    <tr>\n",
       "      <th>top</th>\n",
       "      <td>5743f032a5a36ff4300000a5</td>\n",
       "      <td>US</td>\n",
       "      <td>Jakarta</td>\n",
       "      <td>577a28b8b7456617690000a5</td>\n",
       "      <td>58465caf6dea79c175000078</td>\n",
       "      <td>en</td>\n",
       "      <td>samsung</td>\n",
       "      <td>1</td>\n",
       "      <td>android</td>\n",
       "      <td>wifi</td>\n",
       "      <td>...</td>\n",
       "      <td>0.0</td>\n",
       "      <td>580f0e8433c58e460b00008d</td>\n",
       "      <td>2017-01-24 17:26:05</td>\n",
       "      <td>2017-01-24 08:55:11</td>\n",
       "      <td>2017-01-21 20:13:57</td>\n",
       "      <td>2017-01-27 01:46:00</td>\n",
       "      <td>2017-01-27 00:15:35</td>\n",
       "      <td>2017-01-27 04:52:01</td>\n",
       "      <td>2017-01-25 16:42:32</td>\n",
       "      <td>Asia/Shanghai</td>\n",
       "    </tr>\n",
       "    <tr>\n",
       "      <th>freq</th>\n",
       "      <td>56698</td>\n",
       "      <td>345367</td>\n",
       "      <td>2419</td>\n",
       "      <td>20660</td>\n",
       "      <td>39541</td>\n",
       "      <td>552800</td>\n",
       "      <td>384000</td>\n",
       "      <td>192131</td>\n",
       "      <td>798495</td>\n",
       "      <td>1013099</td>\n",
       "      <td>...</td>\n",
       "      <td>1221485.0</td>\n",
       "      <td>47520</td>\n",
       "      <td>9</td>\n",
       "      <td>7</td>\n",
       "      <td>5</td>\n",
       "      <td>14</td>\n",
       "      <td>12</td>\n",
       "      <td>12</td>\n",
       "      <td>13</td>\n",
       "      <td>153709</td>\n",
       "    </tr>\n",
       "  </tbody>\n",
       "</table>\n",
       "<p>4 rows × 26 columns</p>\n",
       "</div>"
      ],
      "text/plain": [
       "         advertiser_app_store_id country_code     city  \\\n",
       "count                    1369515      1369015    46940   \n",
       "unique                       948          223    11202   \n",
       "top     5743f032a5a36ff4300000a5           US  Jakarta   \n",
       "freq                       56698       345367     2419   \n",
       "\n",
       "                     campaign_id               creative_id device_language  \\\n",
       "count                    1369515                   1369515         1369392   \n",
       "unique                      4275                     13193             113   \n",
       "top     577a28b8b7456617690000a5  58465caf6dea79c175000078              en   \n",
       "freq                       20660                     39541          552800   \n",
       "\n",
       "       device_make device_model device_platform device_connection  \\\n",
       "count      1369172      1369161         1369515           1287934   \n",
       "unique        4017        30416               3                 2   \n",
       "top        samsung            1         android              wifi   \n",
       "freq        384000       192131          798495           1013099   \n",
       "\n",
       "            ...       n_vungle_installs    publisher_app_store_id  \\\n",
       "count       ...               1369515.0                   1369515   \n",
       "unique      ...                    61.0                     12794   \n",
       "top         ...                     0.0  580f0e8433c58e460b00008d   \n",
       "freq        ...               1221485.0                     47520   \n",
       "\n",
       "        time_of_last_delivery_this_campaign  \\\n",
       "count                                866352   \n",
       "unique                               637846   \n",
       "top                     2017-01-24 17:26:05   \n",
       "freq                                      9   \n",
       "\n",
       "        time_of_last_delivery_this_creative  \\\n",
       "count                                599223   \n",
       "unique                               488930   \n",
       "top                     2017-01-24 08:55:11   \n",
       "freq                                      7   \n",
       "\n",
       "       time_of_last_delivery_any_installed_app  time_of_last_vungle_delivery  \\\n",
       "count                                   147446                       1324194   \n",
       "unique                                  140011                        735970   \n",
       "top                        2017-01-21 20:13:57           2017-01-27 01:46:00   \n",
       "freq                                         5                            14   \n",
       "\n",
       "        time_of_this_impression timestamp_at_install time_of_this_request  \\\n",
       "count                   1369515               231909              1369515   \n",
       "unique                   628676               188432               674102   \n",
       "top         2017-01-27 00:15:35  2017-01-27 04:52:01  2017-01-25 16:42:32   \n",
       "freq                         12                   12                   13   \n",
       "\n",
       "            time_zone  \n",
       "count         1369093  \n",
       "unique            415  \n",
       "top     Asia/Shanghai  \n",
       "freq           153709  \n",
       "\n",
       "[4 rows x 26 columns]"
      ]
     },
     "execution_count": 30,
     "metadata": {},
     "output_type": "execute_result"
    }
   ],
   "source": [
    "df_raw.describe()"
   ]
  },
  {
   "cell_type": "code",
   "execution_count": 40,
   "metadata": {
    "collapsed": false
   },
   "outputs": [
    {
     "data": {
      "text/plain": [
       "0.0     10113\n",
       "1.0     11181\n",
       "2.0     11822\n",
       "3.0     11069\n",
       "4.0     10196\n",
       "5.0      9556\n",
       "6.0      9149\n",
       "7.0      9189\n",
       "8.0      8427\n",
       "9.0      8592\n",
       "10.0     8532\n",
       "11.0     9330\n",
       "12.0    10216\n",
       "13.0    10754\n",
       "14.0    10888\n",
       "15.0    10817\n",
       "16.0     9849\n",
       "17.0     9622\n",
       "18.0     9192\n",
       "19.0     9014\n",
       "20.0     8907\n",
       "21.0     8671\n",
       "22.0     8432\n",
       "23.0     8391\n",
       "Name: timestamp_at_install, dtype: int64"
      ]
     },
     "execution_count": 40,
     "metadata": {},
     "output_type": "execute_result"
    }
   ],
   "source": [
    "times = pd.DatetimeIndex(df_raw.timestamp_at_install)\n",
    "df_raw.groupby([times.hour]).timestamp_at_install.count()"
   ]
  },
  {
   "cell_type": "code",
   "execution_count": 41,
   "metadata": {
    "collapsed": false
   },
   "outputs": [
    {
     "data": {
      "text/plain": [
       "1.0        45\n",
       "2.0        40\n",
       "3.0        38\n",
       "4.0        32\n",
       "5.0        35\n",
       "6.0        54\n",
       "7.0        91\n",
       "8.0        89\n",
       "9.0        69\n",
       "10.0       60\n",
       "11.0       79\n",
       "12.0       71\n",
       "13.0       92\n",
       "14.0      169\n",
       "15.0      168\n",
       "16.0      202\n",
       "17.0      166\n",
       "18.0      223\n",
       "19.0      270\n",
       "20.0      480\n",
       "21.0    11018\n",
       "22.0    16165\n",
       "23.0    22234\n",
       "24.0    26993\n",
       "25.0    30602\n",
       "26.0    35007\n",
       "27.0    34834\n",
       "28.0    30156\n",
       "29.0    18342\n",
       "30.0     4058\n",
       "31.0       27\n",
       "Name: timestamp_at_install, dtype: int64"
      ]
     },
     "execution_count": 41,
     "metadata": {},
     "output_type": "execute_result"
    }
   ],
   "source": [
    "df_raw.groupby([times.day]).timestamp_at_install.count()"
   ]
  },
  {
   "cell_type": "code",
   "execution_count": 45,
   "metadata": {
    "collapsed": false
   },
   "outputs": [
    {
     "data": {
      "text/plain": [
       "device_os_version\n",
       "10.0                                   177\n",
       "10.0.0.0                              1170\n",
       "10.0.1                                1652\n",
       "10.0.10240.16384                         0\n",
       "10.0.10240.16397                         4\n",
       "10.0.10240.16405                         2\n",
       "10.0.10240.16413                         1\n",
       "10.0.10240.16430                         0\n",
       "10.0.10240.16445                         1\n",
       "10.0.10240.16463                         1\n",
       "10.0.10240.16487                         3\n",
       "10.0.10240.16500                         0\n",
       "10.0.10240.16520                         3\n",
       "10.0.10240.16549                         1\n",
       "10.0.10240.16590                         0\n",
       "10.0.10240.16601                         1\n",
       "10.0.10240.16644                         2\n",
       "10.0.10240.16854                         0\n",
       "10.0.10240.16942                         1\n",
       "10.0.10240.17024                         0\n",
       "10.0.10240.17071                         2\n",
       "10.0.10240.17113                         1\n",
       "10.0.10240.17146                         0\n",
       "10.0.10240.17190                         1\n",
       "10.0.10240.17202                         4\n",
       "10.0.10240.17236                        42\n",
       "10.0.10586.0                            10\n",
       "10.0.10586.104                           2\n",
       "10.0.10586.107                           4\n",
       "10.0.10586.11                            1\n",
       "                                     ...  \n",
       "7.1.1 N NOUGAT® Pixel-XL 2°Versão        1\n",
       "7.1.2                                  737\n",
       "7.2.1                                    1\n",
       "7.2.2                                    0\n",
       "8.0                                     51\n",
       "8.0.2                                   77\n",
       "8.1                                    214\n",
       "8.1.0.0                                 22\n",
       "8.1.1                                  103\n",
       "8.1.2                                  327\n",
       "8.1.3                                  215\n",
       "8.2                                    239\n",
       "8.3                                    818\n",
       "8.4                                    674\n",
       "8.4.1                                  774\n",
       "8.8.8                                    0\n",
       "9.0                                    113\n",
       "9.0.0                                    0\n",
       "9.0.1                                  100\n",
       "9.0.2                                  363\n",
       "9.1                                    825\n",
       "9.2                                    880\n",
       "9.2.1                                 1718\n",
       "9.3                                    274\n",
       "9.3.1                                 1243\n",
       "9.3.2                                 3980\n",
       "9.3.3                                 1418\n",
       "9.3.4                                 1961\n",
       "9.3.5                                10895\n",
       "9.4.1                                    0\n",
       "Name: timestamp_at_install, dtype: int64"
      ]
     },
     "execution_count": 45,
     "metadata": {},
     "output_type": "execute_result"
    }
   ],
   "source": [
    "df_raw.groupby([\"device_os_version\"]).timestamp_at_install.count()"
   ]
  },
  {
   "cell_type": "code",
   "execution_count": null,
   "metadata": {
    "collapsed": true
   },
   "outputs": [],
   "source": []
  }
 ],
 "metadata": {
  "anaconda-cloud": {},
  "kernelspec": {
   "display_name": "Python [conda root]",
   "language": "python",
   "name": "conda-root-py"
  },
  "language_info": {
   "codemirror_mode": {
    "name": "ipython",
    "version": 2
   },
   "file_extension": ".py",
   "mimetype": "text/x-python",
   "name": "python",
   "nbconvert_exporter": "python",
   "pygments_lexer": "ipython2",
   "version": "2.7.12"
  }
 },
 "nbformat": 4,
 "nbformat_minor": 1
}
